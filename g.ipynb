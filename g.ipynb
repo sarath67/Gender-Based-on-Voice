{
 "cells": [
  {
   "cell_type": "code",
   "execution_count": 1,
   "metadata": {},
   "outputs": [],
   "source": [
    "import numpy as np\n",
    "import librosa\n",
    "import os\n",
    "from sklearn.model_selection import train_test_split\n",
    "from sklearn.preprocessing import StandardScaler\n",
    "from sklearn.metrics import accuracy_score, confusion_matrix, classification_report\n",
    "from sklearn.svm import SVC"
   ]
  },
  {
   "cell_type": "code",
   "execution_count": null,
   "metadata": {},
   "outputs": [],
   "source": [
    "def extract_features(file_path):\n",
    "    y, sr = librosa.load(file_path, sr=None)\n",
    "    mfccs = librosa.feature.mfcc(y=y, sr=sr, n_mfcc=13)\n",
    "    chroma = librosa.feature.chroma_stft(y=y, sr=sr)\n",
    "    spectral_centroid = librosa.feature.spectral_centroid(y=y, sr=sr)\n",
    "    spectral_bandwidth = librosa.feature.spectral_bandwidth(y=y, sr=sr)\n",
    "    features = np.concatenate([\n",
    "        np.mean(mfccs, axis=1),\n",
    "        np.mean(chroma, axis=1),\n",
    "        np.mean(spectral_centroid, axis=1),\n",
    "        np.mean(spectral_bandwidth, axis=1)\n",
    "    ])\n",
    "    return features"
   ]
  },
  {
   "cell_type": "code",
   "execution_count": null,
   "metadata": {},
   "outputs": [],
   "source": [
    "def load_dataset(data_dir):\n",
    "    features, labels = [], []\n",
    "    for label, gender in enumerate(['male', 'female']):\n",
    "        gender_dir = os.path.join(data_dir, gender)\n",
    "        for file_name in os.listdir(gender_dir):\n",
    "            file_path = os.path.join(gender_dir, file_name)\n",
    "            try:\n",
    "                audio_features = extract_features(file_path)\n",
    "                features.append(audio_features)\n",
    "                labels.append(label)\n",
    "            except Exception as e:\n",
    "                print(f\"Error processing {file_name}: {e}\")\n",
    "    \n",
    "    return np.array(features), np.array(labels)"
   ]
  },
  {
   "cell_type": "code",
   "execution_count": null,
   "metadata": {},
   "outputs": [
    {
     "name": "stdout",
     "output_type": "stream",
     "text": [
      "Total samples in dataset: 1739\n",
      "Number of male samples: 739\n",
      "Number of female samples: 1000\n",
      "Training samples: 1391\n",
      "Testing samples: 348\n",
      "Accuracy: 100.00%\n"
     ]
    }
   ],
   "source": [
    "data_dir = 'audio_dataset'\n",
    "features, labels = load_dataset(data_dir)\n",
    "print(features[0],labels[0])\n",
    "\n",
    "print(f\"Total samples in dataset: {len(labels)}\")\n",
    "print(f\"Number of male samples: {np.sum(labels == 0)}\")\n",
    "print(f\"Number of female samples: {np.sum(labels == 1)}\")\n",
    "\n",
    "scaler = StandardScaler()\n",
    "features = scaler.fit_transform(features)\n",
    "\n",
    "X_train, X_test, y_train, y_test = train_test_split(features, labels, test_size=0.8, random_state=42)\n",
    "\n",
    "print(f\"Training samples: {len(y_train)}\")\n",
    "print(f\"Testing samples: {len(y_test)}\")\n",
    "\n",
    "model = SVC()\n",
    "model.fit(X_train, y_train)\n",
    "\n",
    "y_pred = model.predict(X_test)\n",
    "accuracy = accuracy_score(y_test, y_pred)\n",
    "print(f\"Accuracy: {accuracy * 100:.2f}%\")\n"
   ]
  },
  {
   "cell_type": "code",
   "execution_count": 45,
   "metadata": {},
   "outputs": [
    {
     "name": "stdout",
     "output_type": "stream",
     "text": [
      "[-228.50111     83.37447     13.948432    37.37506      8.219474\n",
      "   -5.779841   -21.11218     -7.528347   -19.253016    12.824012\n",
      "  -20.15146      3.5419867   -7.018186 ] 0\n"
     ]
    }
   ],
   "source": [
    "print(features[0],labels[0])\n"
   ]
  },
  {
   "cell_type": "code",
   "execution_count": null,
   "metadata": {},
   "outputs": [
    {
     "name": "stdout",
     "output_type": "stream",
     "text": [
      "Confusion Matrix:\n",
      "[[156   0]\n",
      " [  0 192]]\n",
      "\n",
      "Classification Report:\n",
      "              precision    recall  f1-score   support\n",
      "\n",
      "        Male       1.00      1.00      1.00       156\n",
      "      Female       1.00      1.00      1.00       192\n",
      "\n",
      "    accuracy                           1.00       348\n",
      "   macro avg       1.00      1.00      1.00       348\n",
      "weighted avg       1.00      1.00      1.00       348\n",
      "\n"
     ]
    }
   ],
   "source": [
    "conf_matrix = confusion_matrix(y_test, y_pred)\n",
    "class_report = classification_report(y_test, y_pred, target_names=['Male', 'Female'])\n",
    "\n",
    "print(\"Confusion Matrix:\")\n",
    "print(conf_matrix)\n",
    "print(\"\\nClassification Report:\")\n",
    "print(class_report)\n"
   ]
  },
  {
   "cell_type": "code",
   "execution_count": null,
   "metadata": {},
   "outputs": [
    {
     "name": "stdout",
     "output_type": "stream",
     "text": [
      "Model saved to 'gender_classifier.pkl'\n"
     ]
    }
   ],
   "source": [
    "import joblib\n",
    "joblib.dump(model, 'gender_classifier.pkl')\n",
    "print(\"Model saved to 'gender_classifier.pkl'\")\n"
   ]
  },
  {
   "cell_type": "code",
   "execution_count": null,
   "metadata": {},
   "outputs": [
    {
     "name": "stdout",
     "output_type": "stream",
     "text": [
      "Model loaded successfully\n"
     ]
    }
   ],
   "source": [
    "model = joblib.load('gender_classifier.pkl')\n",
    "print(\"Model loaded successfully\")\n"
   ]
  },
  {
   "cell_type": "code",
   "execution_count": 47,
   "metadata": {},
   "outputs": [
    {
     "name": "stdout",
     "output_type": "stream",
     "text": [
      "Predicted Gender: Male\n"
     ]
    }
   ],
   "source": [
    "def predict_gender(file_path):\n",
    "    audio_features = extract_features(file_path)\n",
    "    audio_features = scaler.transform([audio_features])  # Normalize\n",
    "    prediction = model.predict(audio_features)\n",
    "    return \"Male\" if prediction[0] == 0 else \"Female\"\n",
    "\n",
    "test_file = 'ex.mp3'\n",
    "print(f\"Predicted Gender: {predict_gender(test_file)}\")\n"
   ]
  }
 ],
 "metadata": {
  "kernelspec": {
   "display_name": "base",
   "language": "python",
   "name": "python3"
  },
  "language_info": {
   "codemirror_mode": {
    "name": "ipython",
    "version": 3
   },
   "file_extension": ".py",
   "mimetype": "text/x-python",
   "name": "python",
   "nbconvert_exporter": "python",
   "pygments_lexer": "ipython3",
   "version": "3.12.4"
  }
 },
 "nbformat": 4,
 "nbformat_minor": 2
}
